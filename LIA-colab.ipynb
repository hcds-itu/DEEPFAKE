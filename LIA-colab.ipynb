{
  "nbformat": 4,
  "nbformat_minor": 0,
  "metadata": {
    "colab": {
      "provenance": [],
      "gpuType": "T4",
      "gpuClass": "premium",
      "machine_shape": "hm",
      "collapsed_sections": [
        "rpia7ypgMzSE",
        "pLuWWSAdO92f"
      ]
    },
    "kernelspec": {
      "name": "python3",
      "display_name": "Python 3"
    },
    "language_info": {
      "name": "python"
    },
    "accelerator": "GPU"
  },
  "cells": [
    {
      "cell_type": "markdown",
      "source": [
        "# Recreation of visual part of data in Deepfake project"
      ],
      "metadata": {
        "id": "1ylSsHo8fSWD"
      }
    },
    {
      "cell_type": "markdown",
      "source": [
        "## Setup"
      ],
      "metadata": {
        "id": "HBwqQjukjrdW"
      }
    },
    {
      "cell_type": "code",
      "source": [
        "import os\n",
        "from google.colab import files\n",
        "import gdown"
      ],
      "metadata": {
        "id": "HS5811zWP43N"
      },
      "execution_count": 1,
      "outputs": []
    },
    {
      "cell_type": "code",
      "source": [
        "%%capture\n",
        "! pip install av"
      ],
      "metadata": {
        "id": "sF6GVgZs2_6Z"
      },
      "execution_count": 2,
      "outputs": []
    },
    {
      "cell_type": "markdown",
      "source": [
        "## Clone git repo"
      ],
      "metadata": {
        "id": "QujmByOs2KOl"
      }
    },
    {
      "cell_type": "code",
      "source": [
        "username = \"hcds-itu\"\n",
        "repository = \"DEEPFAKE.git\""
      ],
      "metadata": {
        "id": "KUepCdB9PF8a"
      },
      "execution_count": 3,
      "outputs": []
    },
    {
      "cell_type": "markdown",
      "source": [
        "### public repo"
      ],
      "metadata": {
        "id": "rpia7ypgMzSE"
      }
    },
    {
      "cell_type": "code",
      "source": [
        "%%capture\n",
        "!git clone https://github.com/{username}/{repository}"
      ],
      "metadata": {
        "id": "e1_yiGLDPBXb"
      },
      "execution_count": 4,
      "outputs": []
    },
    {
      "cell_type": "markdown",
      "source": [
        "### Init submodules"
      ],
      "metadata": {
        "id": "pLuWWSAdO92f"
      }
    },
    {
      "cell_type": "code",
      "source": [
        "os.chdir(\"/content/DEEPFAKE\")\n",
        "!git submodule init\n",
        "!git submodule update"
      ],
      "metadata": {
        "id": "6ezehMx7c37x",
        "colab": {
          "base_uri": "https://localhost:8080/"
        },
        "outputId": "320fc45b-80f6-451c-e0f3-3c90dfb1d8d3"
      },
      "execution_count": 5,
      "outputs": [
        {
          "output_type": "stream",
          "name": "stdout",
          "text": [
            "Submodule 'LIA' (https://github.com/hcds-itu/LIA.git) registered for path 'LIA'\n",
            "Submodule 'so-vits-svc-fork' (https://github.com/hcds-itu/so-vits-svc-fork.git) registered for path 'so-vits-svc-fork'\n",
            "Cloning into '/content/DEEPFAKE/LIA'...\n",
            "Cloning into '/content/DEEPFAKE/so-vits-svc-fork'...\n",
            "Submodule path 'LIA': checked out '24525e7d80083183dbff4782eb79ad5f3ea4c867'\n",
            "Submodule path 'so-vits-svc-fork': checked out '1dba6550f21cbb0d2fd10aa3b1ffbda54f3bd6a4'\n"
          ]
        }
      ]
    },
    {
      "cell_type": "markdown",
      "source": [
        "# LIA"
      ],
      "metadata": {
        "id": "Qgi7LqS4j2Q_"
      }
    },
    {
      "cell_type": "markdown",
      "source": [
        "Move model"
      ],
      "metadata": {
        "id": "-NzAXQg0ZPmb"
      }
    },
    {
      "cell_type": "code",
      "source": [
        "!mv vox.pt LIA/checkpoints"
      ],
      "metadata": {
        "id": "CS35X96dwup2"
      },
      "execution_count": 6,
      "outputs": []
    },
    {
      "cell_type": "markdown",
      "source": [
        "Upload data.zip and unzip"
      ],
      "metadata": {
        "id": "XKjh24eAZTk2"
      }
    },
    {
      "cell_type": "code",
      "source": [
        "os.chdir(\"/content/DEEPFAKE/LIA\")\n",
        "# download data.zip\n",
        "file_id = \"1uW5unwLP8D78xNX1h4i-bZWZ3Sp4780E\"\n",
        "gdown.download(f\"https://drive.google.com/uc?id={file_id}\", \"data.zip\")\n",
        "# unzip data\n",
        "%%capture\n",
        "!unzip data.zip"
      ],
      "metadata": {
        "id": "YJ72YgVFQYdx"
      },
      "execution_count": null,
      "outputs": []
    },
    {
      "cell_type": "markdown",
      "source": [
        "Pick source image and driving video (you will find the result in /content/DEEPFAKE/LIA/res/vox/)"
      ],
      "metadata": {
        "id": "M1OWsN6wSTLr"
      }
    },
    {
      "cell_type": "code",
      "source": [
        "img = \"data/vid/img.png\"\n",
        "# use vid1.mp4 for testing, vid.mp4 is the complete vide\n",
        "video = \"data/vid/vid1.mp4\"\n",
        "!python /content/DEEPFAKE/LIA/run_demo.py --model vox --source_path $img --driving_path $video"
      ],
      "metadata": {
        "id": "j-LAdhjrSRlk",
        "colab": {
          "base_uri": "https://localhost:8080/"
        },
        "outputId": "5760dbf5-3ab2-4f3b-a48d-591f826749c6"
      },
      "execution_count": 8,
      "outputs": [
        {
          "output_type": "stream",
          "name": "stdout",
          "text": [
            "/content/DEEPFAKE/LIA\n",
            "['put checkpoints here', 'vox.pt']\n",
            "==> loading model\n",
            "==> loading data\n",
            "==> running\n",
            "  0% 0/3508 [00:00<?, ?it/s]/content/DEEPFAKE/LIA/networks/styledecoder.py:439: UserWarning: torch.qr is deprecated in favor of torch.linalg.qr and will be removed in a future PyTorch release.\n",
            "The boolean parameter 'some' has been replaced with a string parameter 'mode'.\n",
            "Q, R = torch.qr(A, some)\n",
            "should be replaced with\n",
            "Q, R = torch.linalg.qr(A, 'reduced' if some else 'complete') (Triggered internally at ../aten/src/ATen/native/BatchLinearAlgebra.cpp:2426.)\n",
            "  Q, R = torch.qr(weight)  # get eignvector, orthogonal [n1, n2, n3, n4]\n",
            "/usr/local/lib/python3.10/dist-packages/torch/nn/functional.py:4296: UserWarning: Default grid_sample and affine_grid behavior has changed to align_corners=False since 1.3.0. Please specify align_corners=True if the old behavior is desired. See the documentation of grid_sample for details.\n",
            "  warnings.warn(\n",
            "100% 3508/3508 [02:52<00:00, 20.30it/s]\n"
          ]
        }
      ]
    }
  ]
}